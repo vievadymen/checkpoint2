{
 "cells": [
  {
   "cell_type": "code",
   "execution_count": 18,
   "id": "a7c52152",
   "metadata": {},
   "outputs": [
    {
     "data": {
      "text/plain": [
       "22"
      ]
     },
     "execution_count": 18,
     "metadata": {},
     "output_type": "execute_result"
    }
   ],
   "source": [
    "from math import *\n",
    "def RacineCarree(D):\n",
    "    C = 50\n",
    "    H = 30\n",
    "    Q = sqrt((2*C*D)/H)\n",
    "    return int(Q)\n",
    "RacineCarree(150)"
   ]
  },
  {
   "cell_type": "code",
   "execution_count": null,
   "id": "7e3d1d2b",
   "metadata": {},
   "outputs": [],
   "source": []
  },
  {
   "cell_type": "code",
   "execution_count": null,
   "id": "f719430b",
   "metadata": {},
   "outputs": [],
   "source": []
  }
 ],
 "metadata": {
  "kernelspec": {
   "display_name": "Python 3 (ipykernel)",
   "language": "python",
   "name": "python3"
  },
  "language_info": {
   "codemirror_mode": {
    "name": "ipython",
    "version": 3
   },
   "file_extension": ".py",
   "mimetype": "text/x-python",
   "name": "python",
   "nbconvert_exporter": "python",
   "pygments_lexer": "ipython3",
   "version": "3.9.7"
  }
 },
 "nbformat": 4,
 "nbformat_minor": 5
}
