{
 "cells": [
  {
   "cell_type": "code",
   "execution_count": 6,
   "id": "599edad6",
   "metadata": {},
   "outputs": [
    {
     "name": "stdout",
     "output_type": "stream",
     "text": [
      "[0 1 2]\n",
      "[2 1 0]\n",
      "\n",
      "La matrice de covariance est:\n",
      " [[ 1. -1.]\n",
      " [-1.  1.]]\n"
     ]
    }
   ],
   "source": [
    "import numpy as np \n",
    "  \n",
    "  \n",
    "tab1 = np.array([0,1,2]) \n",
    "tab2 = np.array([2,1,0]) \n",
    "  \n",
    "print(tab1) \n",
    "  \n",
    "print(tab2) \n",
    "  \n",
    "print(\"\\nLa matrice de covariance est:\\n\", \n",
    "      np.cov(array1, array2)) "
   ]
  },
  {
   "cell_type": "code",
   "execution_count": null,
   "id": "9e3bc4a7",
   "metadata": {},
   "outputs": [],
   "source": []
  }
 ],
 "metadata": {
  "kernelspec": {
   "display_name": "Python 3 (ipykernel)",
   "language": "python",
   "name": "python3"
  },
  "language_info": {
   "codemirror_mode": {
    "name": "ipython",
    "version": 3
   },
   "file_extension": ".py",
   "mimetype": "text/x-python",
   "name": "python",
   "nbconvert_exporter": "python",
   "pygments_lexer": "ipython3",
   "version": "3.9.7"
  }
 },
 "nbformat": 4,
 "nbformat_minor": 5
}
