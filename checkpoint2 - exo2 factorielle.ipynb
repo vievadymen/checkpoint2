{
 "cells": [
  {
   "cell_type": "code",
   "execution_count": 7,
   "id": "4405cc8e",
   "metadata": {},
   "outputs": [
    {
     "data": {
      "text/plain": [
       "120"
      ]
     },
     "execution_count": 7,
     "metadata": {},
     "output_type": "execute_result"
    }
   ],
   "source": [
    "def factorielle(n):\n",
    "   if n == 0:\n",
    "      return 1\n",
    "   else:\n",
    "      J = 1\n",
    "      for k in range(2,n+1):\n",
    "         J = J * k\n",
    "      return J\n",
    "factorielle(5)"
   ]
  },
  {
   "cell_type": "code",
   "execution_count": 9,
   "id": "0870ac27",
   "metadata": {},
   "outputs": [],
   "source": []
  },
  {
   "cell_type": "code",
   "execution_count": 10,
   "id": "6419527a",
   "metadata": {},
   "outputs": [],
   "source": []
  },
  {
   "cell_type": "code",
   "execution_count": null,
   "id": "94703d67",
   "metadata": {},
   "outputs": [],
   "source": []
  }
 ],
 "metadata": {
  "kernelspec": {
   "display_name": "Python 3 (ipykernel)",
   "language": "python",
   "name": "python3"
  },
  "language_info": {
   "codemirror_mode": {
    "name": "ipython",
    "version": 3
   },
   "file_extension": ".py",
   "mimetype": "text/x-python",
   "name": "python",
   "nbconvert_exporter": "python",
   "pygments_lexer": "ipython3",
   "version": "3.9.7"
  }
 },
 "nbformat": 4,
 "nbformat_minor": 5
}
