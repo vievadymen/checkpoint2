{
 "cells": [
  {
   "cell_type": "code",
   "execution_count": 19,
   "id": "27246fdf",
   "metadata": {},
   "outputs": [
    {
     "data": {
      "text/plain": [
       "{1: 1}"
      ]
     },
     "execution_count": 19,
     "metadata": {},
     "output_type": "execute_result"
    }
   ],
   "source": [
    "def dictionnaire(n):\n",
    "    for i in range(1,n):\n",
    "        MyDict={i:i*i}\n",
    "        return MyDict\n",
    "dictionnaire(5)"
   ]
  },
  {
   "cell_type": "code",
   "execution_count": null,
   "id": "9bfbac50",
   "metadata": {},
   "outputs": [],
   "source": []
  }
 ],
 "metadata": {
  "kernelspec": {
   "display_name": "Python 3 (ipykernel)",
   "language": "python",
   "name": "python3"
  },
  "language_info": {
   "codemirror_mode": {
    "name": "ipython",
    "version": 3
   },
   "file_extension": ".py",
   "mimetype": "text/x-python",
   "name": "python",
   "nbconvert_exporter": "python",
   "pygments_lexer": "ipython3",
   "version": "3.9.7"
  }
 },
 "nbformat": 4,
 "nbformat_minor": 5
}
